{
  "nbformat": 4,
  "nbformat_minor": 0,
  "metadata": {
    "colab": {
      "provenance": []
    },
    "kernelspec": {
      "name": "python3",
      "display_name": "Python 3"
    },
    "language_info": {
      "name": "python"
    }
  },
  "cells": [
    {
      "cell_type": "code",
      "execution_count": 1,
      "metadata": {
        "colab": {
          "base_uri": "https://localhost:8080/"
        },
        "id": "RRIAaLI-Wx0u",
        "outputId": "a7dd6655-789b-4d9b-b276-0ca84541c16a"
      },
      "outputs": [
        {
          "output_type": "stream",
          "name": "stdout",
          "text": [
            "Libraries imported successfully for churn analysis\n"
          ]
        }
      ],
      "source": [
        "# Import necessary libraries for our analysis\n",
        "import pandas as pd\n",
        "import numpy as np\n",
        "import matplotlib.pyplot as plt\n",
        "import seaborn as sns\n",
        "from sklearn.model_selection import train_test_split\n",
        "from sklearn.ensemble import RandomForestClassifier\n",
        "from sklearn.metrics import classification_report, confusion_matrix\n",
        "import warnings\n",
        "warnings.filterwarnings('ignore')\n",
        "\n",
        "print(\"Libraries imported successfully for churn analysis\")"
      ]
    },
    {
      "cell_type": "code",
      "source": [
        "# Example of poorly commented code (similar to issues in Malit's notebook)\n",
        "def process_data(df):\n",
        "    df['tenure_group'] = pd.cut(df['tenure'], bins=[0,12,24,36,48,60,72], labels=['0-12','13-24','25-36','37-48','49-60','61-72'])\n",
        "    df['age_group'] = pd.cut(df['age'], bins=[18,25,35,45,55,65,100], labels=['18-25','26-35','36-45','46-55','56-65','65+'])\n",
        "    return df\n",
        "\n",
        "# What does this function actually do? Without comments, it's unclear!"
      ],
      "metadata": {
        "id": "F4EPNxOlW_Ul"
      },
      "execution_count": 2,
      "outputs": []
    },
    {
      "cell_type": "code",
      "source": [
        "def process_data_improved(df):\n",
        "    \"\"\"\n",
        "    Create categorical features from numerical tenure and age data for churn analysis.\n",
        "\n",
        "    Args:\n",
        "        df (pandas.DataFrame): Input dataframe containing 'tenure' and 'age' columns\n",
        "\n",
        "    Returns:\n",
        "        pandas.DataFrame: Dataframe with added categorical feature columns\n",
        "    \"\"\"\n",
        "    # Create tenure groups: segment customers by months with bank (0-72 months)\n",
        "    # This helps identify if newer customers (0-12 months) churn more than established ones\n",
        "    df['tenure_group'] = pd.cut(df['tenure'],\n",
        "                               bins=[0,12,24,36,48,60,72],\n",
        "                               labels=['0-12','13-24','25-36','37-48','49-60','61-72'])\n",
        "\n",
        "    # Create age groups: demographic segmentation for targeted retention strategies\n",
        "    # Different age groups may have different banking needs and churn patterns\n",
        "    df['age_group'] = pd.cut(df['age'],\n",
        "                            bins=[18,25,35,45,55,65,100],\n",
        "                            labels=['18-25','26-35','36-45','46-55','56-65','65+'])\n",
        "\n",
        "    return df\n",
        "\n",
        "print(\"Improved function with comprehensive documentation\")"
      ],
      "metadata": {
        "colab": {
          "base_uri": "https://localhost:8080/"
        },
        "id": "4AA_QABtXPJo",
        "outputId": "b677ad57-886a-4c78-adad-d63b20f12208"
      },
      "execution_count": 3,
      "outputs": [
        {
          "output_type": "stream",
          "name": "stdout",
          "text": [
            "Improved function with comprehensive documentation\n"
          ]
        }
      ]
    },
    {
      "cell_type": "code",
      "source": [
        "# Create sample data to demonstrate analytical insights\n",
        "np.random.seed(42)\n",
        "sample_data = {\n",
        "    'customer_id': range(1000),\n",
        "    'age': np.random.randint(18, 80, 1000),\n",
        "    'tenure': np.random.randint(1, 72, 1000),\n",
        "    'balance': np.random.normal(50000, 25000, 1000),\n",
        "    'products_number': np.random.randint(1, 5, 1000),\n",
        "    'has_credit_card': np.random.choice([0, 1], 1000),\n",
        "    'is_active_member': np.random.choice([0, 1], 1000),\n",
        "    'estimated_salary': np.random.normal(75000, 30000, 1000)\n",
        "}\n",
        "\n",
        "# Create churn based on realistic patterns\n",
        "churn_prob = (\n",
        "    (sample_data['age'] > 60) * 0.3 +  # Older customers more likely to churn\n",
        "    (sample_data['products_number'] == 1) * 0.4 +  # Single product customers\n",
        "    (sample_data['is_active_member'] == 0) * 0.5 +  # Inactive members\n",
        "    (sample_data['balance'] == 0) * 0.6  # Zero balance customers\n",
        ") / 4\n",
        "\n",
        "sample_data['exited'] = np.random.binomial(1, churn_prob, 1000)\n",
        "\n",
        "df_sample = pd.DataFrame(sample_data)\n",
        "\n",
        "print(\"Sample dataset created with realistic churn patterns\")\n",
        "print(f\"Dataset shape: {df_sample.shape}\")\n",
        "print(f\"Churn rate: {df_sample['exited'].mean():.2%}\")"
      ],
      "metadata": {
        "colab": {
          "base_uri": "https://localhost:8080/"
        },
        "id": "8bST09gbXTAY",
        "outputId": "0ac57035-ce59-4aa8-f1ec-c1d4c354a773"
      },
      "execution_count": 4,
      "outputs": [
        {
          "output_type": "stream",
          "name": "stdout",
          "text": [
            "Sample dataset created with realistic churn patterns\n",
            "Dataset shape: (1000, 9)\n",
            "Churn rate: 10.90%\n"
          ]
        }
      ]
    },
    {
      "cell_type": "code",
      "source": [
        "# Example of insightful analysis: Multi-dimensional churn analysis\n",
        "# This demonstrates the type of insight we'd expect in a good notebook\n",
        "\n",
        "def analyze_churn_patterns(df):\n",
        "    \"\"\"\n",
        "    Perform comprehensive churn analysis across multiple dimensions.\n",
        "    This type of analysis would be considered 'particularly insightful'.\n",
        "    \"\"\"\n",
        "    insights = {}\n",
        "\n",
        "    # Age-based churn analysis\n",
        "    age_churn = df.groupby(pd.cut(df['age'], bins=5))['exited'].agg(['count', 'mean'])\n",
        "    insights['age_pattern'] = age_churn\n",
        "\n",
        "    # Product portfolio impact\n",
        "    product_churn = df.groupby('products_number')['exited'].mean()\n",
        "    insights['product_impact'] = product_churn\n",
        "\n",
        "    # Combined risk factors\n",
        "    risk_segments = df.groupby(['is_active_member', 'has_credit_card'])['exited'].mean()\n",
        "    insights['risk_segments'] = risk_segments\n",
        "\n",
        "    return insights\n",
        "\n",
        "# Run the analysis\n",
        "churn_insights = analyze_churn_patterns(df_sample)\n",
        "\n",
        "print(\"=== CHURN ANALYSIS INSIGHTS ===\")\n",
        "print(\"1. Age-based churn patterns:\")\n",
        "print(churn_insights['age_pattern'])\n",
        "\n",
        "print(\"2. Product portfolio impact:\")\n",
        "print(churn_insights['product_impact'])\n",
        "\n",
        "print(\"3. Risk segments (Activity vs Credit Card):\")\n",
        "print(churn_insights['risk_segments'])"
      ],
      "metadata": {
        "colab": {
          "base_uri": "https://localhost:8080/"
        },
        "id": "TlZaLBJbXfek",
        "outputId": "03b9fef0-92e3-4509-8e37-a8d923e255cb"
      },
      "execution_count": 7,
      "outputs": [
        {
          "output_type": "stream",
          "name": "stdout",
          "text": [
            "=== CHURN ANALYSIS INSIGHTS ===\n",
            "1. Age-based churn patterns:\n",
            "                count      mean\n",
            "age                            \n",
            "(17.939, 30.2]    191  0.062827\n",
            "(30.2, 42.4]      180  0.100000\n",
            "(42.4, 54.6]      214  0.088785\n",
            "(54.6, 66.8]      179  0.128492\n",
            "(66.8, 79.0]      236  0.156780\n",
            "2. Product portfolio impact:\n",
            "products_number\n",
            "1    0.172932\n",
            "2    0.057851\n",
            "3    0.107570\n",
            "4    0.091286\n",
            "Name: exited, dtype: float64\n",
            "3. Risk segments (Activity vs Credit Card):\n",
            "is_active_member  has_credit_card\n",
            "0                 0                  0.171674\n",
            "                  1                  0.171315\n",
            "1                 0                  0.048148\n",
            "                  1                  0.052846\n",
            "Name: exited, dtype: float64\n"
          ]
        }
      ]
    },
    {
      "cell_type": "code",
      "source": [
        "# Demonstrating notebook benefits and limitations\n",
        "\n",
        "# BENEFIT: Interactive exploration and visualization\n",
        "plt.figure(figsize=(12, 4))\n",
        "\n",
        "plt.subplot(1, 3, 1)\n",
        "df_sample['age'].hist(bins=20)\n",
        "plt.title('Age Distribution')\n",
        "plt.xlabel('Age')\n",
        "plt.ylabel('Frequency')\n",
        "\n",
        "plt.subplot(1, 3, 2)\n",
        "df_sample.boxplot(column='balance', by='exited', ax=plt.gca())\n",
        "plt.title('Balance by Churn Status')\n",
        "plt.suptitle('')\n",
        "\n",
        "plt.subplot(1, 3, 3)\n",
        "churn_by_products = df_sample.groupby('products_number')['exited'].mean()\n",
        "churn_by_products.plot(kind='bar')\n",
        "plt.title('Churn Rate by Number of Products')\n",
        "plt.xlabel('Number of Products')\n",
        "plt.ylabel('Churn Rate')\n",
        "plt.xticks(rotation=0)\n",
        "\n",
        "plt.tight_layout()\n",
        "plt.show()\n",
        "\n",
        "print(\"Interactive visualizations demonstrate notebook's strength for exploration\")"
      ],
      "metadata": {
        "colab": {
          "base_uri": "https://localhost:8080/",
          "height": 410
        },
        "id": "_OmjljqnXrBD",
        "outputId": "4a6e91b0-4838-4efd-c6d3-89ec8fdfc2cd"
      },
      "execution_count": 8,
      "outputs": [
        {
          "output_type": "display_data",
          "data": {
            "text/plain": [
              "<Figure size 1200x400 with 3 Axes>"
            ],
            "image/png": "[encoded data removed]"
          },
          "metadata": {}
        },
        {
          "output_type": "stream",
          "name": "stdout",
          "text": [
            "Interactive visualizations demonstrate notebook's strength for exploration\n"
          ]
        }
      ]
    },
    {
      "cell_type": "code",
      "source": [
        "# BAD EXAMPLE: Violating DRY principle (common in notebooks)\n",
        "# This shows how notebooks can encourage poor practices\n",
        "\n",
        "# Calculating churn rates for different segments - REPETITIVE CODE\n",
        "age_18_25_churn = df_sample[(df_sample['age'] >= 18) & (df_sample['age'] <= 25)]['exited'].mean()\n",
        "age_26_35_churn = df_sample[(df_sample['age'] >= 26) & (df_sample['age'] <= 35)]['exited'].mean()\n",
        "age_36_45_churn = df_sample[(df_sample['age'] >= 36) & (df_sample['age'] <= 45)]['exited'].mean()\n",
        "age_46_55_churn = df_sample[(df_sample['age'] >= 46) & (df_sample['age'] <= 55)]['exited'].mean()\n",
        "\n",
        "print(f\"Churn rates by age group:\")\n",
        "print(f\"18-25: {age_18_25_churn:.2%}\")\n",
        "print(f\"26-35: {age_26_35_churn:.2%}\")\n",
        "print(f\"36-45: {age_36_45_churn:.2%}\")\n",
        "print(f\"46-55: {age_46_55_churn:.2%}\")\n",
        "\n",
        "# BETTER APPROACH: Following DRY principle\n",
        "def calculate_segment_churn(df, column, ranges):\n",
        "    \"\"\"Calculate churn rates for different segments of a variable.\"\"\"\n",
        "    results = {}\n",
        "    for range_name, (min_val, max_val) in ranges.items():\n",
        "        mask = (df[column] >= min_val) & (df[column] <= max_val)\n",
        "        results[range_name] = df[mask]['exited'].mean()\n",
        "    return results\n",
        "\n",
        "age_ranges = {\n",
        "    '18-25': (18, 25),\n",
        "    '26-35': (26, 35),\n",
        "    '36-45': (36, 45),\n",
        "    '46-55': (46, 55)\n",
        "}\n",
        "\n",
        "churn_by_age = calculate_segment_churn(df_sample, 'age', age_ranges)\n",
        "print(\"\\nImproved approach - DRY principle:\")\n",
        "for age_group, churn_rate in churn_by_age.items():\n",
        "    print(f\"{age_group}: {churn_rate:.2%}\")"
      ],
      "metadata": {
        "colab": {
          "base_uri": "https://localhost:8080/"
        },
        "id": "k9_JhqEGX1kZ",
        "outputId": "11bb7eed-872c-4f3c-c71b-0177c2e84b26"
      },
      "execution_count": 10,
      "outputs": [
        {
          "output_type": "stream",
          "name": "stdout",
          "text": [
            "Churn rates by age group:\n",
            "18-25: 5.74%\n",
            "26-35: 7.35%\n",
            "36-45: 9.47%\n",
            "46-55: 9.58%\n",
            "\n",
            "Improved approach - DRY principle:\n",
            "18-25: 5.74%\n",
            "26-35: 7.35%\n",
            "36-45: 9.47%\n",
            "46-55: 9.58%\n"
          ]
        }
      ]
    },
    {
      "cell_type": "code",
      "source": [],
      "metadata": {
        "id": "lmb7VvfGYEXY"
      },
      "execution_count": null,
      "outputs": []
    },
    {
      "cell_type": "code",
      "source": [],
      "metadata": {
        "id": "AkVtAHsCXndx"
      },
      "execution_count": null,
      "outputs": []
    }
  ]
}